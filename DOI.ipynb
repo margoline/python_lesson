{
 "cells": [
  {
   "cell_type": "code",
   "execution_count": 94,
   "metadata": {},
   "outputs": [],
   "source": [
    "import urllib.request\n",
    "import json\n",
    "import pandas"
   ]
  },
  {
   "cell_type": "code",
   "execution_count": 95,
   "metadata": {},
   "outputs": [],
   "source": [
    "base_url = \"https://api.crossref.org/works/\"\n",
    "doi = \"10.21105/joss.01035\""
   ]
  },
  {
   "cell_type": "code",
   "execution_count": 96,
   "metadata": {},
   "outputs": [],
   "source": [
    "full_url = base_url + doi"
   ]
  },
  {
   "cell_type": "code",
   "execution_count": 97,
   "metadata": {},
   "outputs": [
    {
     "name": "stdout",
     "output_type": "stream",
     "text": [
      "https://api.crossref.org/works/10.21105/joss.01035\n"
     ]
    }
   ],
   "source": [
    "print(full_url)"
   ]
  },
  {
   "cell_type": "code",
   "execution_count": 98,
   "metadata": {},
   "outputs": [],
   "source": [
    "doi_json_data = urllib.request.urlopen(full_url).read()"
   ]
  },
  {
   "cell_type": "code",
   "execution_count": 99,
   "metadata": {},
   "outputs": [
    {
     "name": "stdout",
     "output_type": "stream",
     "text": [
      "b'{\"status\":\"ok\",\"message-type\":\"work\",\"message-version\":\"1.0.0\",\"message\":{\"indexed\":{\"date-parts\":[[2019,10,27]],\"date-time\":\"2019-10-27T05:40:21Z\",\"timestamp\":1572154821632},\"reference-count\":22,\"publisher\":\"The Open Journal\",\"issue\":\"30\",\"license\":[{\"URL\":\"http:\\\\/\\\\/creativecommons.org\\\\/licenses\\\\/by\\\\/4.0\\\\/\",\"start\":{\"date-parts\":[[2018,10,19]],\"date-time\":\"2018-10-19T00:00:00Z\",\"timestamp\":1539907200000},\"delay-in-days\":0,\"content-version\":\"vor\"},{\"URL\":\"http:\\\\/\\\\/creativecommons.org\\\\/licenses\\\\/by\\\\/4.0\\\\/\",\"start\":{\"date-parts\":[[2018,10,19]],\"date-time\":\"2018-10-19T00:00:00Z\",\"timestamp\":1539907200000},\"delay-in-days\":0,\"content-version\":\"am\"},{\"URL\":\"http:\\\\/\\\\/creativecommons.org\\\\/licenses\\\\/by\\\\/4.0\\\\/\",\"start\":{\"date-parts\":[[2018,10,19]],\"date-time\":\"2018-10-19T00:00:00Z\",\"timestamp\":1539907200000},\"delay-in-days\":0,\"content-version\":\"tdm\"}],\"content-domain\":{\"domain\":[],\"crossmark-restriction\":false},\"short-container-title\":[\"JOSS\"],\"published-print\":{\"date-parts\":[[2018,10,19]]},\"DOI\":\"10.21105\\\\/joss.01035\",\"type\":\"journal-article\",\"created\":{\"date-parts\":[[2018,10,19]],\"date-time\":\"2018-10-19T01:35:06Z\",\"timestamp\":1539912906000},\"page\":\"1035\",\"source\":\"Crossref\",\"is-referenced-by-count\":0,\"title\":[\"nasapower: A NASA POWER Global Meteorology, Surface Solar Energy and Climatology Data Client for R\"],\"prefix\":\"10.21105\",\"volume\":\"3\",\"author\":[{\"ORCID\":\"http:\\\\/\\\\/orcid.org\\\\/0000-0002-0061-8359\",\"authenticated-orcid\":false,\"given\":\"Adam\",\"family\":\"Sparks\",\"sequence\":\"first\",\"affiliation\":[]}],\"member\":\"8722\",\"reference\":[{\"key\":\"ref1\",\"unstructured\":\"APSIM: General Utility Functions for the \\\\u2019Agricultural Production Systems Simulator\\\\u2019, Fainges, Justin, CSIRO, R package version 0.9.2, 2017, 2017-12-21 06:17:25 +0000, 2017-12-21 06:20:15 +0000, https:\\\\/\\\\/CRAN.R-project.org\\\\/package=APSIM\"},{\"key\":\"ref2\",\"unstructured\":\"Stackhouse, Jr., Paul W. and Zhang, Taiping and Westberg, David and Barnett, A. Jason and Bristow, Tyler and Macpherson, Bradley and Hoell, James M., POWER Release 8 (With GIS Applications) Methodology (Data Parameters, Sources, & Validation) Documentation Date May 1, 2018 (All Previous Versions Are Obsolete) (Data Version 8.0.1), NASA, 2018, 2018-05, 2018-06-28, https:\\\\/\\\\/power.larc.nasa.gov\\\\/documents\\\\/POWER_Data_v8_methodology.pdf, 2018-05-01\"},{\"key\":\"ref3\",\"unstructured\":\"Del Ponte, Emerson and Cunniffe, Nik and Sparks, Adam H., Can rainfall be a useful predictor of epidemic risk across temporal and spatial scales?, 2018, 2018-07, Proceedings of the 11th International Congress of Plant Pathology (ICPP), 2018-07-29\\\\/2018-08-03, Hynes Convention Center, American Phytopathological Society, Boston, Massachusetts, USA\"},{\"key\":\"ref4\",\"unstructured\":\"Bai, Jinshun and Chen, Xinping and Dobermann, Achim and Yang, Haishun and Cassman, Kenneth G. and Zhang, Fusuo, Evaluation of NASA satellite-and model-derived weather data for simulation of maize yield potential in China, Agronomy Journal, 2010, 102, 1, 9\\\\u201316, 2010, Agronomy Journal, American Society of Agronomy\",\"DOI\":\"10.2134\\\\/agronj2009.0085\",\"doi-asserted-by\":\"crossref\"},{\"key\":\"ref5\",\"unstructured\":\"raster: Geographic Data Analysis and Modeling, Hijmans, Robert J., R package version 2.6-7, https:\\\\/\\\\/CRAN.R-project.org\\\\/package=raster, 2017, https:\\\\/\\\\/CRAN.R-project.org\\\\/package=raster\"},{\"key\":\"ref6\",\"unstructured\":\"Hoogenboom, G and Porter, CH and Shelia, V and Boote, KJ and Singh, U and White, JW and Hunt, LA and Ogoshi, R and Lizaso, JI and Koo, J and others, Decision Support System for Agrotechnology Transfer (DSSAT) Version 4.7 (https:\\\\/\\\\/DSSAT.net). DSSAT Foundation, Gainesville, Florida, 2017, USA\"},{\"key\":\"ref7\",\"unstructured\":\"Jones, James W and Hoogenboom, Gerrit and Porter, Cheryl H and Boote, Ken J and Batchelor, William D and Hunt, LA and Wilkens, Paul W and Singh, Upendra and Gijsman, Arjan J and Ritchie, Joe T, The DSSAT cropping system model, 18, 3-4, 235\\\\u2013265, 2003, European Journal of Agronomy, Elsevier\",\"DOI\":\"10.1016\\\\/S1161-0301(02)00107-7\",\"doi-asserted-by\":\"crossref\"},{\"key\":\"ref8\",\"unstructured\":\"Keating, Brian A. and Carberry, Peter S. and Hammer, Graeme L. and Probert, Mervyn E. and Robertson, Michael J. and Holzworth, D. and Huth, Neil I. and Hargreaves, John N.G. and Meinke, Holger and Hochman, Zvi and others, An overview of APSIM, a model designed for farming systems simulation, 18, 3-4, 267\\\\u2013288, 2003, European Journal of Agronomy, Elsevier\",\"DOI\":\"10.1016\\\\/S1161-0301(02)00108-9\",\"doi-asserted-by\":\"crossref\"},{\"key\":\"ref9\",\"unstructured\":\"tibble: Simple Data Frames, M\\\\u00fcller, Kirill and Wickham, Hadley, R package version 1.4.2, 2018, https:\\\\/\\\\/CRAN.R-project.org\\\\/package=tibble\"},{\"key\":\"ref10\",\"unstructured\":\"Ojeda, Jonathan J. and Volenec, Jeffrey J. and Brouder, Sylvie M. and Caviglia, Octavio P. and Agnusdei, M\\\\u00f3nica G., Evaluation of Agricultural Production Systems Simulator as Yield Predictor of \\\\\\\\textitPanicum virgatum and \\\\\\\\textitMiscanthus x \\\\\\\\textitgiganteus in Several US Environments, 9, 4, 796\\\\u2013816, 2017, GCB Bioenergy, Wiley Online Library\",\"DOI\":\"10.1111\\\\/gcbb.12384\",\"doi-asserted-by\":\"crossref\"},{\"key\":\"ref11\",\"unstructured\":\"curl: A Modern and Flexible Web Client for R, Ooms, Jeroen, 2018, R package version 3.2, https:\\\\/\\\\/CRAN.R-project.org\\\\/package=curl\"},{\"key\":\"ref12\",\"unstructured\":\"R: A Language and Environment for Statistical Computing, R Core Team, R Foundation for Statistical Computing, https:\\\\/\\\\/www.R-project.org\\\\/, 2018, Vienna, Austria, https:\\\\/\\\\/www.R-project.org\\\\/\"},{\"key\":\"ref13\",\"DOI\":\"10.1016\\\\/j.cropro.2011.11.009\",\"doi-asserted-by\":\"publisher\"},{\"key\":\"ref14\",\"DOI\":\"10.1111\\\\/gcb.12302\",\"doi-asserted-by\":\"publisher\"},{\"key\":\"ref15\",\"DOI\":\"10.1016\\\\/j.agrformet.2015.02.020\",\"doi-asserted-by\":\"publisher\"},{\"key\":\"ref16\",\"unstructured\":\"ggplot2: Elegant Graphics for Data Analysis, Springer-Verlag New York, Wickham, Hadley, 978-0-387-98140-6, http:\\\\/\\\\/ggplot2.org, 2009, 2017-12-18 03:28:21 +0000, http:\\\\/\\\\/ggplot2.org\"},{\"key\":\"ref17\",\"DOI\":\"10.18637\\\\/jss.v059.i10\",\"doi-asserted-by\":\"publisher\"},{\"key\":\"ref18\",\"unstructured\":\"Jones, J.W. and Tsuji, G.Y. and Hoogenboom, G. and Hunt, L.A. and Thornton, P.K. and Wilkens, P.W. and Imamura, D.T. and Bowen, W.T. and Singh, U., Decision support system for agrotechnology transfer: DSSAT v3, Understanding options for agricultural production, Springer, 157\\\\u2013177, 1998\",\"DOI\":\"10.1007\\\\/978-94-017-3624-4_8\",\"doi-asserted-by\":\"crossref\"},{\"key\":\"ref19\",\"unstructured\":\"crul: HTTP Client, Chamberlain, Scott, rOpenSci, R package version 0.5.2, 2018, https:\\\\/\\\\/CRAN.R-project.org\\\\/package=crul\"},{\"key\":\"ref20\",\"unstructured\":\"Ooms, Jeroen, The jsonlite Package: A Practical and Consistent Mapping Between JSON Data and R Objects, 2014, arXiv:1403.2805 [stat.CO], https:\\\\/\\\\/arxiv.org\\\\/abs\\\\/1403.2805\"},{\"key\":\"ref21\",\"unstructured\":\"Grolemund, Garrett and Wickham, Hadley, Dates and Times Made Easy With lubridate, 40, 3, 1\\\\u201325, 2011, Journal of Statistical Software, http:\\\\/\\\\/www.jstatsoft.org\\\\/v40\\\\/i03\\\\/\",\"DOI\":\"10.18637\\\\/jss.v040.i03\",\"doi-asserted-by\":\"crossref\"},{\"key\":\"ref22\",\"unstructured\":\"readr: Read Rectangular Text Data, Wickham, Hadley and Hester, Jim and Francois, Romain, R package version 1.1.1, 2017, https:\\\\/\\\\/CRAN.R-project.org\\\\/package=readr\"}],\"container-title\":[\"Journal of Open Source Software\"],\"original-title\":[],\"link\":[{\"URL\":\"http:\\\\/\\\\/www.theoj.org\\\\/openjournals\\\\/joss-papers\\\\/joss.01035\\\\/10.21105.joss.01035.pdf\",\"content-type\":\"application\\\\/pdf\",\"content-version\":\"vor\",\"intended-application\":\"text-mining\"}],\"deposited\":{\"date-parts\":[[2019,10,27]],\"date-time\":\"2019-10-27T05:24:25Z\",\"timestamp\":1572153865000},\"score\":1.0,\"subtitle\":[],\"short-title\":[],\"issued\":{\"date-parts\":[[2018,10,19]]},\"references-count\":22,\"journal-issue\":{\"published-online\":{\"date-parts\":[[2018,10]]},\"issue\":\"30\"},\"alternative-id\":[\"10.21105\\\\/joss.01035\"],\"URL\":\"http:\\\\/\\\\/dx.doi.org\\\\/10.21105\\\\/joss.01035\",\"relation\":{\"references\":[{\"id-type\":\"doi\",\"id\":\"https:\\\\/\\\\/doi.org\\\\/10.5281\\\\/zenodo.1466069\",\"asserted-by\":\"subject\"}],\"has-review\":[{\"id-type\":\"uri\",\"id\":\"https:\\\\/\\\\/github.com\\\\/openjournals\\\\/joss-reviews\\\\/issues\\\\/1035\",\"asserted-by\":\"subject\"}],\"cites\":[]},\"ISSN\":[\"2475-9066\"],\"issn-type\":[{\"value\":\"2475-9066\",\"type\":\"electronic\"}]}}'\n"
     ]
    }
   ],
   "source": [
    "print(doi_json_data)"
   ]
  },
  {
   "cell_type": "code",
   "execution_count": 100,
   "metadata": {},
   "outputs": [
    {
     "name": "stdout",
     "output_type": "stream",
     "text": [
      "base_url\t doi\t doi_data\t doi_json_data\t full_url\t json\t pandas\t urllib\t \n"
     ]
    }
   ],
   "source": [
    "%who"
   ]
  },
  {
   "cell_type": "code",
   "execution_count": 101,
   "metadata": {},
   "outputs": [],
   "source": [
    "doi_data = json.loads(doi_json_data)"
   ]
  },
  {
   "cell_type": "code",
   "execution_count": 102,
   "metadata": {},
   "outputs": [
    {
     "data": {
      "text/plain": [
       "dict"
      ]
     },
     "execution_count": 102,
     "metadata": {},
     "output_type": "execute_result"
    }
   ],
   "source": [
    "type(doi_data)"
   ]
  },
  {
   "cell_type": "code",
   "execution_count": 103,
   "metadata": {},
   "outputs": [
    {
     "data": {
      "text/plain": [
       "dict_keys(['status', 'message-type', 'message-version', 'message'])"
      ]
     },
     "execution_count": 103,
     "metadata": {},
     "output_type": "execute_result"
    }
   ],
   "source": [
    "doi_data.keys()"
   ]
  },
  {
   "cell_type": "code",
   "execution_count": 104,
   "metadata": {},
   "outputs": [
    {
     "name": "stdout",
     "output_type": "stream",
     "text": [
      "{\n",
      "  \"status\": \"ok\",\n",
      "  \"message-type\": \"work\",\n",
      "  \"message-version\": \"1.0.0\",\n",
      "  \"message\": {\n",
      "    \"indexed\": {\n",
      "      \"date-parts\": [\n",
      "        [\n",
      "          2019,\n",
      "          10,\n",
      "          27\n",
      "        ]\n",
      "      ],\n",
      "      \"date-time\": \"2019-10-27T05:40:21Z\",\n",
      "      \"timestamp\": 1572154821632\n",
      "    },\n",
      "    \"reference-count\": 22,\n",
      "    \"publisher\": \"The Open Journal\",\n",
      "    \"issue\": \"30\",\n",
      "    \"license\": [\n",
      "      {\n",
      "        \"URL\": \"http://creativecommons.org/licenses/by/4.0/\",\n",
      "        \"start\": {\n",
      "          \"date-parts\": [\n",
      "            [\n",
      "              2018,\n",
      "              10,\n",
      "              19\n",
      "            ]\n",
      "          ],\n",
      "          \"date-time\": \"2018-10-19T00:00:00Z\",\n",
      "          \"timestamp\": 1539907200000\n",
      "        },\n",
      "        \"delay-in-days\": 0,\n",
      "        \"content-version\": \"vor\"\n",
      "      },\n",
      "      {\n",
      "        \"URL\": \"http://creativecommons.org/licenses/by/4.0/\",\n",
      "        \"start\": {\n",
      "          \"date-parts\": [\n",
      "            [\n",
      "              2018,\n",
      "              10,\n",
      "              19\n",
      "            ]\n",
      "          ],\n",
      "          \"date-time\": \"2018-10-19T00:00:00Z\",\n",
      "          \"timestamp\": 1539907200000\n",
      "        },\n",
      "        \"delay-in-days\": 0,\n",
      "        \"content-version\": \"am\"\n",
      "      },\n",
      "      {\n",
      "        \"URL\": \"http://creativecommons.org/licenses/by/4.0/\",\n",
      "        \"start\": {\n",
      "          \"date-parts\": [\n",
      "            [\n",
      "              2018,\n",
      "              10,\n",
      "              19\n",
      "            ]\n",
      "          ],\n",
      "          \"date-time\": \"2018-10-19T00:00:00Z\",\n",
      "          \"timestamp\": 1539907200000\n",
      "        },\n",
      "        \"delay-in-days\": 0,\n",
      "        \"content-version\": \"tdm\"\n",
      "      }\n",
      "    ],\n",
      "    \"content-domain\": {\n",
      "      \"domain\": [],\n",
      "      \"crossmark-restriction\": false\n",
      "    },\n",
      "    \"short-container-title\": [\n",
      "      \"JOSS\"\n",
      "    ],\n",
      "    \"published-print\": {\n",
      "      \"date-parts\": [\n",
      "        [\n",
      "          2018,\n",
      "          10,\n",
      "          19\n",
      "        ]\n",
      "      ]\n",
      "    },\n",
      "    \"DOI\": \"10.21105/joss.01035\",\n",
      "    \"type\": \"journal-article\",\n",
      "    \"created\": {\n",
      "      \"date-parts\": [\n",
      "        [\n",
      "          2018,\n",
      "          10,\n",
      "          19\n",
      "        ]\n",
      "      ],\n",
      "      \"date-time\": \"2018-10-19T01:35:06Z\",\n",
      "      \"timestamp\": 1539912906000\n",
      "    },\n",
      "    \"page\": \"1035\",\n",
      "    \"source\": \"Crossref\",\n",
      "    \"is-referenced-by-count\": 0,\n",
      "    \"title\": [\n",
      "      \"nasapower: A NASA POWER Global Meteorology, Surface Solar Energy and Climatology Data Client for R\"\n",
      "    ],\n",
      "    \"prefix\": \"10.21105\",\n",
      "    \"volume\": \"3\",\n",
      "    \"author\": [\n",
      "      {\n",
      "        \"ORCID\": \"http://orcid.org/0000-0002-0061-8359\",\n",
      "        \"authenticated-orcid\": false,\n",
      "        \"given\": \"Adam\",\n",
      "        \"family\": \"Sparks\",\n",
      "        \"sequence\": \"first\",\n",
      "        \"affiliation\": []\n",
      "      }\n",
      "    ],\n",
      "    \"member\": \"8722\",\n",
      "    \"reference\": [\n",
      "      {\n",
      "        \"key\": \"ref1\",\n",
      "        \"unstructured\": \"APSIM: General Utility Functions for the \\u2019Agricultural Production Systems Simulator\\u2019, Fainges, Justin, CSIRO, R package version 0.9.2, 2017, 2017-12-21 06:17:25 +0000, 2017-12-21 06:20:15 +0000, https://CRAN.R-project.org/package=APSIM\"\n",
      "      },\n",
      "      {\n",
      "        \"key\": \"ref2\",\n",
      "        \"unstructured\": \"Stackhouse, Jr., Paul W. and Zhang, Taiping and Westberg, David and Barnett, A. Jason and Bristow, Tyler and Macpherson, Bradley and Hoell, James M., POWER Release 8 (With GIS Applications) Methodology (Data Parameters, Sources, & Validation) Documentation Date May 1, 2018 (All Previous Versions Are Obsolete) (Data Version 8.0.1), NASA, 2018, 2018-05, 2018-06-28, https://power.larc.nasa.gov/documents/POWER_Data_v8_methodology.pdf, 2018-05-01\"\n",
      "      },\n",
      "      {\n",
      "        \"key\": \"ref3\",\n",
      "        \"unstructured\": \"Del Ponte, Emerson and Cunniffe, Nik and Sparks, Adam H., Can rainfall be a useful predictor of epidemic risk across temporal and spatial scales?, 2018, 2018-07, Proceedings of the 11th International Congress of Plant Pathology (ICPP), 2018-07-29/2018-08-03, Hynes Convention Center, American Phytopathological Society, Boston, Massachusetts, USA\"\n",
      "      },\n",
      "      {\n",
      "        \"key\": \"ref4\",\n",
      "        \"unstructured\": \"Bai, Jinshun and Chen, Xinping and Dobermann, Achim and Yang, Haishun and Cassman, Kenneth G. and Zhang, Fusuo, Evaluation of NASA satellite-and model-derived weather data for simulation of maize yield potential in China, Agronomy Journal, 2010, 102, 1, 9\\u201316, 2010, Agronomy Journal, American Society of Agronomy\",\n",
      "        \"DOI\": \"10.2134/agronj2009.0085\",\n",
      "        \"doi-asserted-by\": \"crossref\"\n",
      "      },\n",
      "      {\n",
      "        \"key\": \"ref5\",\n",
      "        \"unstructured\": \"raster: Geographic Data Analysis and Modeling, Hijmans, Robert J., R package version 2.6-7, https://CRAN.R-project.org/package=raster, 2017, https://CRAN.R-project.org/package=raster\"\n",
      "      },\n",
      "      {\n",
      "        \"key\": \"ref6\",\n",
      "        \"unstructured\": \"Hoogenboom, G and Porter, CH and Shelia, V and Boote, KJ and Singh, U and White, JW and Hunt, LA and Ogoshi, R and Lizaso, JI and Koo, J and others, Decision Support System for Agrotechnology Transfer (DSSAT) Version 4.7 (https://DSSAT.net). DSSAT Foundation, Gainesville, Florida, 2017, USA\"\n",
      "      },\n",
      "      {\n",
      "        \"key\": \"ref7\",\n",
      "        \"unstructured\": \"Jones, James W and Hoogenboom, Gerrit and Porter, Cheryl H and Boote, Ken J and Batchelor, William D and Hunt, LA and Wilkens, Paul W and Singh, Upendra and Gijsman, Arjan J and Ritchie, Joe T, The DSSAT cropping system model, 18, 3-4, 235\\u2013265, 2003, European Journal of Agronomy, Elsevier\",\n",
      "        \"DOI\": \"10.1016/S1161-0301(02)00107-7\",\n",
      "        \"doi-asserted-by\": \"crossref\"\n",
      "      },\n",
      "      {\n",
      "        \"key\": \"ref8\",\n",
      "        \"unstructured\": \"Keating, Brian A. and Carberry, Peter S. and Hammer, Graeme L. and Probert, Mervyn E. and Robertson, Michael J. and Holzworth, D. and Huth, Neil I. and Hargreaves, John N.G. and Meinke, Holger and Hochman, Zvi and others, An overview of APSIM, a model designed for farming systems simulation, 18, 3-4, 267\\u2013288, 2003, European Journal of Agronomy, Elsevier\",\n",
      "        \"DOI\": \"10.1016/S1161-0301(02)00108-9\",\n",
      "        \"doi-asserted-by\": \"crossref\"\n",
      "      },\n",
      "      {\n",
      "        \"key\": \"ref9\",\n",
      "        \"unstructured\": \"tibble: Simple Data Frames, M\\u00fcller, Kirill and Wickham, Hadley, R package version 1.4.2, 2018, https://CRAN.R-project.org/package=tibble\"\n",
      "      },\n",
      "      {\n",
      "        \"key\": \"ref10\",\n",
      "        \"unstructured\": \"Ojeda, Jonathan J. and Volenec, Jeffrey J. and Brouder, Sylvie M. and Caviglia, Octavio P. and Agnusdei, M\\u00f3nica G., Evaluation of Agricultural Production Systems Simulator as Yield Predictor of \\\\textitPanicum virgatum and \\\\textitMiscanthus x \\\\textitgiganteus in Several US Environments, 9, 4, 796\\u2013816, 2017, GCB Bioenergy, Wiley Online Library\",\n",
      "        \"DOI\": \"10.1111/gcbb.12384\",\n",
      "        \"doi-asserted-by\": \"crossref\"\n",
      "      },\n",
      "      {\n",
      "        \"key\": \"ref11\",\n",
      "        \"unstructured\": \"curl: A Modern and Flexible Web Client for R, Ooms, Jeroen, 2018, R package version 3.2, https://CRAN.R-project.org/package=curl\"\n",
      "      },\n",
      "      {\n",
      "        \"key\": \"ref12\",\n",
      "        \"unstructured\": \"R: A Language and Environment for Statistical Computing, R Core Team, R Foundation for Statistical Computing, https://www.R-project.org/, 2018, Vienna, Austria, https://www.R-project.org/\"\n",
      "      },\n",
      "      {\n",
      "        \"key\": \"ref13\",\n",
      "        \"DOI\": \"10.1016/j.cropro.2011.11.009\",\n",
      "        \"doi-asserted-by\": \"publisher\"\n",
      "      },\n",
      "      {\n",
      "        \"key\": \"ref14\",\n",
      "        \"DOI\": \"10.1111/gcb.12302\",\n",
      "        \"doi-asserted-by\": \"publisher\"\n",
      "      },\n",
      "      {\n",
      "        \"key\": \"ref15\",\n",
      "        \"DOI\": \"10.1016/j.agrformet.2015.02.020\",\n",
      "        \"doi-asserted-by\": \"publisher\"\n",
      "      },\n",
      "      {\n",
      "        \"key\": \"ref16\",\n",
      "        \"unstructured\": \"ggplot2: Elegant Graphics for Data Analysis, Springer-Verlag New York, Wickham, Hadley, 978-0-387-98140-6, http://ggplot2.org, 2009, 2017-12-18 03:28:21 +0000, http://ggplot2.org\"\n",
      "      },\n",
      "      {\n",
      "        \"key\": \"ref17\",\n",
      "        \"DOI\": \"10.18637/jss.v059.i10\",\n",
      "        \"doi-asserted-by\": \"publisher\"\n",
      "      },\n",
      "      {\n",
      "        \"key\": \"ref18\",\n",
      "        \"unstructured\": \"Jones, J.W. and Tsuji, G.Y. and Hoogenboom, G. and Hunt, L.A. and Thornton, P.K. and Wilkens, P.W. and Imamura, D.T. and Bowen, W.T. and Singh, U., Decision support system for agrotechnology transfer: DSSAT v3, Understanding options for agricultural production, Springer, 157\\u2013177, 1998\",\n",
      "        \"DOI\": \"10.1007/978-94-017-3624-4_8\",\n",
      "        \"doi-asserted-by\": \"crossref\"\n",
      "      },\n",
      "      {\n",
      "        \"key\": \"ref19\",\n",
      "        \"unstructured\": \"crul: HTTP Client, Chamberlain, Scott, rOpenSci, R package version 0.5.2, 2018, https://CRAN.R-project.org/package=crul\"\n",
      "      },\n",
      "      {\n",
      "        \"key\": \"ref20\",\n",
      "        \"unstructured\": \"Ooms, Jeroen, The jsonlite Package: A Practical and Consistent Mapping Between JSON Data and R Objects, 2014, arXiv:1403.2805 [stat.CO], https://arxiv.org/abs/1403.2805\"\n",
      "      },\n",
      "      {\n",
      "        \"key\": \"ref21\",\n",
      "        \"unstructured\": \"Grolemund, Garrett and Wickham, Hadley, Dates and Times Made Easy With lubridate, 40, 3, 1\\u201325, 2011, Journal of Statistical Software, http://www.jstatsoft.org/v40/i03/\",\n",
      "        \"DOI\": \"10.18637/jss.v040.i03\",\n",
      "        \"doi-asserted-by\": \"crossref\"\n",
      "      },\n",
      "      {\n",
      "        \"key\": \"ref22\",\n",
      "        \"unstructured\": \"readr: Read Rectangular Text Data, Wickham, Hadley and Hester, Jim and Francois, Romain, R package version 1.1.1, 2017, https://CRAN.R-project.org/package=readr\"\n",
      "      }\n",
      "    ],\n",
      "    \"container-title\": [\n",
      "      \"Journal of Open Source Software\"\n",
      "    ],\n",
      "    \"original-title\": [],\n",
      "    \"link\": [\n",
      "      {\n",
      "        \"URL\": \"http://www.theoj.org/openjournals/joss-papers/joss.01035/10.21105.joss.01035.pdf\",\n",
      "        \"content-type\": \"application/pdf\",\n",
      "        \"content-version\": \"vor\",\n",
      "        \"intended-application\": \"text-mining\"\n",
      "      }\n",
      "    ],\n",
      "    \"deposited\": {\n",
      "      \"date-parts\": [\n",
      "        [\n",
      "          2019,\n",
      "          10,\n",
      "          27\n",
      "        ]\n",
      "      ],\n",
      "      \"date-time\": \"2019-10-27T05:24:25Z\",\n",
      "      \"timestamp\": 1572153865000\n",
      "    },\n",
      "    \"score\": 1.0,\n",
      "    \"subtitle\": [],\n",
      "    \"short-title\": [],\n",
      "    \"issued\": {\n",
      "      \"date-parts\": [\n",
      "        [\n",
      "          2018,\n",
      "          10,\n",
      "          19\n",
      "        ]\n",
      "      ]\n",
      "    },\n",
      "    \"references-count\": 22,\n",
      "    \"journal-issue\": {\n",
      "      \"published-online\": {\n",
      "        \"date-parts\": [\n",
      "          [\n",
      "            2018,\n",
      "            10\n",
      "          ]\n",
      "        ]\n",
      "      },\n",
      "      \"issue\": \"30\"\n",
      "    },\n",
      "    \"alternative-id\": [\n",
      "      \"10.21105/joss.01035\"\n",
      "    ],\n",
      "    \"URL\": \"http://dx.doi.org/10.21105/joss.01035\",\n",
      "    \"relation\": {\n",
      "      \"references\": [\n",
      "        {\n",
      "          \"id-type\": \"doi\",\n",
      "          \"id\": \"https://doi.org/10.5281/zenodo.1466069\",\n",
      "          \"asserted-by\": \"subject\"\n",
      "        }\n",
      "      ],\n",
      "      \"has-review\": [\n",
      "        {\n",
      "          \"id-type\": \"uri\",\n",
      "          \"id\": \"https://github.com/openjournals/joss-reviews/issues/1035\",\n",
      "          \"asserted-by\": \"subject\"\n",
      "        }\n",
      "      ],\n",
      "      \"cites\": []\n",
      "    },\n",
      "    \"ISSN\": [\n",
      "      \"2475-9066\"\n",
      "    ],\n",
      "    \"issn-type\": [\n",
      "      {\n",
      "        \"value\": \"2475-9066\",\n",
      "        \"type\": \"electronic\"\n",
      "      }\n",
      "    ]\n",
      "  }\n",
      "}\n"
     ]
    }
   ],
   "source": [
    "print(json.dumps(doi_data, indent=2))"
   ]
  },
  {
   "cell_type": "code",
   "execution_count": 105,
   "metadata": {},
   "outputs": [
    {
     "data": {
      "text/plain": [
       "dict_keys(['indexed', 'reference-count', 'publisher', 'issue', 'license', 'content-domain', 'short-container-title', 'published-print', 'DOI', 'type', 'created', 'page', 'source', 'is-referenced-by-count', 'title', 'prefix', 'volume', 'author', 'member', 'reference', 'container-title', 'original-title', 'link', 'deposited', 'score', 'subtitle', 'short-title', 'issued', 'references-count', 'journal-issue', 'alternative-id', 'URL', 'relation', 'ISSN', 'issn-type'])"
      ]
     },
     "execution_count": 105,
     "metadata": {},
     "output_type": "execute_result"
    }
   ],
   "source": [
    "doi_data[\"message\"].keys()"
   ]
  },
  {
   "cell_type": "code",
   "execution_count": 106,
   "metadata": {},
   "outputs": [
    {
     "name": "stdout",
     "output_type": "stream",
     "text": [
      "{'value': '2475-9066', 'type': 'electronic'}\n"
     ]
    }
   ],
   "source": [
    "print(doi_data[\"message\"][\"issn-type\"][0])"
   ]
  },
  {
   "cell_type": "code",
   "execution_count": null,
   "metadata": {},
   "outputs": [],
   "source": []
  }
 ],
 "metadata": {
  "kernelspec": {
   "display_name": "Python 3",
   "language": "python",
   "name": "python3"
  },
  "language_info": {
   "codemirror_mode": {
    "name": "ipython",
    "version": 3
   },
   "file_extension": ".py",
   "mimetype": "text/x-python",
   "name": "python",
   "nbconvert_exporter": "python",
   "pygments_lexer": "ipython3",
   "version": "3.7.4"
  }
 },
 "nbformat": 4,
 "nbformat_minor": 2
}
